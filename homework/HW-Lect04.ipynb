{
 "cells": [
  {
   "cell_type": "code",
   "execution_count": null,
   "id": "782f3acc",
   "metadata": {},
   "outputs": [],
   "source": [
    "# HW-Lec_04 Sterling Vivier PHYS 300\n",
    "import numpy as np\n",
    "import matplotlib.pyplot as plt\n",
    "\n",
    "\n",
    "pts = 500 #number of points \n",
    "width = np.linspace(-2, 2, pts) #creating an array that ranges from -2<x<2 with 500 pts of data\n",
    "height = np.linspace(-2, 2, pts) #creating an array that ranges from -2<y<2 with 500 pts of data\n",
    "\n",
    "dataset = np.zeros([pts, pts], float) #creating the grid to hold each pt of data\n",
    "\n",
    "for i in range (len(height)):     #loop to do the calculations\n",
    "    for j in range(len(width)):\n",
    "        z= 0                    #initial value of z\n",
    "        c= width[j] + height[i]*1j #defining complex value c\n",
    "\n",
    "        for k in range(0, 100): #loop to calculate z value\n",
    "            z= (z*z) + c\n",
    "\n",
    "            if(np.abs(z) > 2):  #condition to break loop \n",
    "                dataset[i, j] = k\n",
    "                break;\n",
    "            \n",
    "\n",
    "plt.imshow(dataset) #plots dataset\n",
    "plt.gray()          #changes color \n",
    "plt.show()          #shows plot"
   ]
  }
 ],
 "metadata": {
  "kernelspec": {
   "display_name": "Python 3",
   "language": "python",
   "name": "python3"
  },
  "language_info": {
   "codemirror_mode": {
    "name": "ipython",
    "version": 3
   },
   "file_extension": ".py",
   "mimetype": "text/x-python",
   "name": "python",
   "nbconvert_exporter": "python",
   "pygments_lexer": "ipython3",
   "version": "3.8.8"
  }
 },
 "nbformat": 4,
 "nbformat_minor": 5
}
