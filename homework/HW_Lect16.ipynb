{
 "cells": [
  {
   "cell_type": "markdown",
   "id": "f4d3114f",
   "metadata": {},
   "source": [
    "Write a program to find the minium of \n",
    "    $$ f(x,y) = x^2/2 + y^2/3 - xy/4 $$\n",
    "    \n",
    "- 1, from your own code (except Monte Carlo)"
   ]
  },
  {
   "cell_type": "code",
   "execution_count": 2,
   "id": "4fb980c3",
   "metadata": {},
   "outputs": [
    {
     "name": "stdout",
     "output_type": "stream",
     "text": [
      "minimum:  0.7786218881617303\n"
     ]
    }
   ],
   "source": [
    "def f2(x, y):\n",
    "    return (x**2)/2 + (y**2)/2 -(x*y)/4\n",
    "\n",
    "def derix(f, x,y,  h=1e-5):\n",
    "    \n",
    "    return (f(x+h, y)-f(x, y))/h\n",
    "\n",
    "def deriy(f, x,y, h=1e-5):\n",
    "    return (f(x, y+h)-f(x, y))/h\n",
    "    \n",
    "\n",
    "def minimize2(f2, x0,y0, N=1000):\n",
    "    \n",
    "    x_now = x0\n",
    "    y_now = y0\n",
    "    \n",
    "    x_prev = None\n",
    "    y_prev = None\n",
    "    converged = False\n",
    "    \n",
    "    for i in range(N):\n",
    "        if x_prev is None and y_prev is None:\n",
    "            dx = 0.01\n",
    "        else:\n",
    "            dfxy = derix(f2, x_now, y_now) - deriy(f2,x_prev, y_prev)\n",
    "            dx = (x_now - x_prev)/dfxy\n",
    "        x_next = x_now - derix(f2, x_now, y_now)*dx\n",
    "        y_next = y_now - deriy(f2,x_now, y_now)*dx\n",
    "        \n",
    "        if (f2(x_next, y_next) < f2(x_now, y_now) and f2(x_next, y_next) < f2(x_now, y_now)):\n",
    "            x_prev = x_now\n",
    "            x_now = x_next\n",
    "            \n",
    "            y_prev = y_now\n",
    "            y_now = y_next\n",
    "\n",
    "        else:\n",
    "            converged = True\n",
    "            break\n",
    "    \n",
    "    return converged, x_now, y_now, f2(x_now, y_now)\n",
    "x0 = -2 + np.random.random()*4\n",
    "y0 = -2 + np.random.random()*4\n",
    "\n",
    "coverged, xarray, yarray, fmin = minimize2(f2,x0, y0, N=1000 )\n",
    "\n",
    "print( \"minimum: \", fmin)"
   ]
  },
  {
   "cell_type": "markdown",
   "id": "e9b39014",
   "metadata": {},
   "source": [
    "- 2, from scipy"
   ]
  },
  {
   "cell_type": "code",
   "execution_count": 1,
   "id": "c02aa6c3",
   "metadata": {},
   "outputs": [
    {
     "name": "stdout",
     "output_type": "stream",
     "text": [
      "Optimization terminated successfully.\n",
      "         Current function value: 0.000000\n",
      "         Iterations: 46\n",
      "         Function evaluations: 87\n"
     ]
    }
   ],
   "source": [
    "from scipy.optimize import minimize\n",
    "import numpy as np\n",
    "\n",
    "x_min, y_min = -2, -2\n",
    "x_max, y_max = 2, 2\n",
    "\n",
    "def f(x):\n",
    "    return (x[0]**2)/2 + (x[1]**2)/2 -(x[0]*x[0])/4\n",
    "\n",
    "def init(x_min, x_max, y_min, y_max):\n",
    "    x0 = x_min+np.random.random()*(x_max-x_min)\n",
    "    y0 = y_min+np.random.random()*(y_max-y_min)\n",
    "    return [x0, y0]\n",
    "\n",
    "[x0, y0] = init(x_min, x_max, y_min, y_max)\n",
    "\n",
    "res = minimize(f, [x0,y0], method='nelder-mead', tol=1e-4, options={'disp': True})"
   ]
  }
 ],
 "metadata": {
  "kernelspec": {
   "display_name": "Python 3",
   "language": "python",
   "name": "python3"
  },
  "language_info": {
   "codemirror_mode": {
    "name": "ipython",
    "version": 3
   },
   "file_extension": ".py",
   "mimetype": "text/x-python",
   "name": "python",
   "nbconvert_exporter": "python",
   "pygments_lexer": "ipython3",
   "version": "3.8.8"
  }
 },
 "nbformat": 4,
 "nbformat_minor": 5
}
