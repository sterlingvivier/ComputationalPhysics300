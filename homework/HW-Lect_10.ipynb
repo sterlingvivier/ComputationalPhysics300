{
 "cells": [
  {
   "cell_type": "markdown",
   "id": "9cee0b33",
   "metadata": {},
   "source": [
    "## 10.4 Homework\n",
    "Choose a particular application and perform fft analysis, and illustrate how fft helps.\n",
    "\n",
    "Using the same function from my lecture 9 homework, I performed a time analysis, calling three different functions \n",
    "to perform the analysis for this set of data. The built in 'fft' solver proved to have the fastest run time. "
   ]
  },
  {
   "cell_type": "code",
   "execution_count": 1,
   "id": "0ad05332",
   "metadata": {},
   "outputs": [
    {
     "name": "stdout",
     "output_type": "stream",
     "text": [
      "3.16 s ± 264 ms per loop (mean ± std. dev. of 7 runs, 1 loop each)\n",
      "31.9 ms ± 10.3 ms per loop (mean ± std. dev. of 7 runs, 10 loops each)\n",
      "196 µs ± 28.9 µs per loop (mean ± std. dev. of 7 runs, 1000 loops each)\n"
     ]
    }
   ],
   "source": [
    "import numpy as np\n",
    "import matplotlib.pyplot as plt\n",
    "import cmath                            # complex math\n",
    "    \n",
    "    \n",
    "N = 500;                  Np = N                           \n",
    "signal = np.zeros( (N+1), float )     \n",
    "xa = np.zeros( (N+1), float )   \n",
    "\n",
    "def f(signal):                          # Signal\n",
    "    step = 2*np.pi/N;        \n",
    "    x = 0. \n",
    "    for i in range(0, N+1):\n",
    "        signal[i] = 30*np.cos(x*x*x)\n",
    "        xa[i] = x                      # Plot\n",
    "        x += step\n",
    "        \n",
    "def dft1(y):\n",
    "    '''\n",
    "    This is a code to do decrete Fourier transform\n",
    "    '''    \n",
    "    N = len(y)\n",
    "    c = np.zeros(N, complex)\n",
    "    for k in range(N):\n",
    "        for n in range(N):\n",
    "            c[k] += y[n]*np.exp(-2j*np.pi*k*n/N)\n",
    "    return c\n",
    "\n",
    "def dft2(y):\n",
    "    '''\n",
    "    This is a improved code to do DFT\n",
    "    '''\n",
    "    x = np.asarray(y, dtype=float)        #N*1 array\n",
    "    N = y.shape[0]\n",
    "    n = np.arange(N)                      #1*N array\n",
    "    k = n.reshape((N, 1))                 #N*1 array\n",
    "    M = np.exp(-2j * np.pi * k * n / N)   #N*N matrix\n",
    "    return np.dot(M, x)                   #N*1 array   N*N dot N*1.   N*1\n",
    "\n",
    "    \n",
    "f(signal)\n",
    "%timeit dft1(signal)\n",
    "%timeit dft2(signal)\n",
    "%timeit np.fft.fft(signal)"
   ]
  }
 ],
 "metadata": {
  "kernelspec": {
   "display_name": "Python 3",
   "language": "python",
   "name": "python3"
  },
  "language_info": {
   "codemirror_mode": {
    "name": "ipython",
    "version": 3
   },
   "file_extension": ".py",
   "mimetype": "text/x-python",
   "name": "python",
   "nbconvert_exporter": "python",
   "pygments_lexer": "ipython3",
   "version": "3.8.8"
  }
 },
 "nbformat": 4,
 "nbformat_minor": 5
}
