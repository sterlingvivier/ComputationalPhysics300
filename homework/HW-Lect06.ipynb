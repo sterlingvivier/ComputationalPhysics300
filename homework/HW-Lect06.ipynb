{
 "cells": [
  {
   "cell_type": "markdown",
   "id": "94b29333",
   "metadata": {},
   "source": [
    "## 6.4 Homework\n",
    "\n",
    "### 6.4.1 Try to find a way to deal with the noisy data and give your reasoning.\n",
    "\n",
    "### 6.4.2 Heat capacity of a solid\n",
    "Debye's thory of solids gives the heat capacity of a solid at temperature $T$ to be\n",
    "\n",
    "$$C_V = 9V\\rho k_B (\\frac{T}{\\theta_D})^3 \\int_0^{\\theta_D/T} \\frac{x^4e^x}{(e^x-1)^2}dx$$\n",
    "\n",
    "where $V$ is the volume of the solid, $\\rho$ is the density of atoms, $k_B$ is Boltzmann constant, and $\\theta$ is the Debye temperature.\n",
    "\n",
    "- Write a program to calculate $C_V$ for a given value of $T$ for a sample of 1000 $cm^3$ of aluminum, in which the density $\\rho$ is 6.022 $\\times 10^{28} m^3$ and $\\theta_D$ = 428 K. \n",
    "\n",
    "- Choose at least one wa to do the integral from the followings\n",
    "     - Simpson or trapezoid rule by yourself\n",
    "     - one built-function from scipy\n",
    "\n",
    "- Plot $C_V$ as a function of temperature from $T$ = 5 K to $T$ = 500 K."
   ]
  },
  {
   "cell_type": "code",
   "execution_count": 1,
   "id": "03201340",
   "metadata": {},
   "outputs": [
    {
     "data": {
      "text/plain": [
       "[<matplotlib.lines.Line2D at 0x11f88ae20>]"
      ]
     },
     "execution_count": 1,
     "metadata": {},
     "output_type": "execute_result"
    },
    {
     "data": {
      "image/png": "[encoded data removed]",
      "text/plain": [
       "<Figure size 576x360 with 1 Axes>"
      ]
     },
     "metadata": {
      "needs_background": "light"
     },
     "output_type": "display_data"
    }
   ],
   "source": [
    "import matplotlib.pyplot as plt\n",
    "import scipy.integrate as integrate\n",
    "import numpy as np\n",
    "import scipy as sp\n",
    "\n",
    "#defines our function\n",
    "f = lambda x: x**4*np.exp(x)/(np.exp(x)-1)**2\n",
    "\n",
    "\n",
    "#specific heat function\n",
    "def specificHeat(V, p, kb, T, D):\n",
    "    \"\"\"\n",
    "    function calculates the integral for\n",
    "    the passed in T value\n",
    "    \n",
    "    this result is then multiplied by the \n",
    "    left hand side of the above formula\n",
    "    and returned from the function\n",
    "    \n",
    "    \"\"\"\n",
    "    integral = integrate.quad(f, 0, D/T)\n",
    "    return 9*V*p*kb *(T/D)**3 * integral[0]\n",
    "\n",
    "\n",
    "#constants -> making sure everything is in \n",
    "#the correct units\n",
    "V= 1000e-6\n",
    "p= 6.0220e28\n",
    "kb=1.38e-23\n",
    "D= 428\n",
    "T=5\n",
    "\n",
    "#empty array to store specific heat values\n",
    "Cv=[]\n",
    "\n",
    "for i in range (5, 500):\n",
    "    \"\"\"\n",
    "    loop to calculate the specific heat\n",
    "    at different temperatures. Temperature\n",
    "    range is from 5 to 500 K. \n",
    "    \n",
    "    each iteration, our specific heat value is\n",
    "    appended onto our specific heat array\n",
    "    \n",
    "    \"\"\"\n",
    "    Cv.append(specificHeat(V, p, kb,i, D ))\n",
    "\n",
    "\n",
    "#outputting data\n",
    "T= np.arange(5, 500, 1) \n",
    "plt.figure(figsize=(8,5))\n",
    "plt.title(\"Temp vs Specific Heat\")\n",
    "plt.xlabel(\"Temperature\", labelpad= 20)\n",
    "plt.ylabel(\"Specific Heat\")\n",
    "plt.plot(T, Cv, color= 'black')"
   ]
  }
 ],
 "metadata": {
  "kernelspec": {
   "display_name": "Python 3",
   "language": "python",
   "name": "python3"
  },
  "language_info": {
   "codemirror_mode": {
    "name": "ipython",
    "version": 3
   },
   "file_extension": ".py",
   "mimetype": "text/x-python",
   "name": "python",
   "nbconvert_exporter": "python",
   "pygments_lexer": "ipython3",
   "version": "3.8.8"
  }
 },
 "nbformat": 4,
 "nbformat_minor": 5
}
