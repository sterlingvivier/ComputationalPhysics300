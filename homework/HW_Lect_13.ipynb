{
 "cells": [
  {
   "cell_type": "code",
   "execution_count": 1,
   "id": "ff90c798",
   "metadata": {},
   "outputs": [
    {
     "name": "stdout",
     "output_type": "stream",
     "text": [
      "[5 3]\n"
     ]
    }
   ],
   "source": [
    "import numpy as np\n",
    "import matplotlib.pyplot as plt\n",
    "\n",
    "#rolling two dice\n",
    "\n",
    "d= np.random.randint(1,6,2)\n",
    "print(d)"
   ]
  },
  {
   "cell_type": "code",
   "execution_count": 2,
   "id": "50814bb8",
   "metadata": {},
   "outputs": [
    {
     "name": "stdout",
     "output_type": "stream",
     "text": [
      "0.027388\n"
     ]
    }
   ],
   "source": [
    "#rolling two dice 1 million times, outputting the probability of two 6's occuring\n",
    "\n",
    "n=1000000\n",
    "count = 0\n",
    "\n",
    "for i in range (0, n):\n",
    "    d= np.random.randint(1,7, 2)\n",
    "    \n",
    "    if (d[0]+d[1] == 12):\n",
    "        count +=1\n",
    "\n",
    "print(count/n)"
   ]
  },
  {
   "cell_type": "code",
   "execution_count": 4,
   "id": "c46d4aa1",
   "metadata": {},
   "outputs": [
    {
     "data": {
      "image/png": "[encoded data removed]",
      "text/plain": [
       "<Figure size 432x288 with 1 Axes>"
      ]
     },
     "metadata": {
      "needs_background": "light"
     },
     "output_type": "display_data"
    },
    {
     "name": "stdout",
     "output_type": "stream",
     "text": [
      "[0, 5, 4, 3, 2, 1, 0, 5, 4, 3]\n"
     ]
    }
   ],
   "source": [
    "#not using function \n",
    "#m =6 to limit max to five\n",
    "\n",
    "N = 10\n",
    "a = -5\n",
    "c = 11\n",
    "m = 6 #\n",
    "x = 1\n",
    "results = []\n",
    "\n",
    "for i in range(N):      \n",
    "    x = (a*x+c)%m\n",
    "    results.append(x)\n",
    "plt.plot(results,\"o\")\n",
    "plt.show()\n",
    "print(results)"
   ]
  }
 ],
 "metadata": {
  "kernelspec": {
   "display_name": "Python 3",
   "language": "python",
   "name": "python3"
  },
  "language_info": {
   "codemirror_mode": {
    "name": "ipython",
    "version": 3
   },
   "file_extension": ".py",
   "mimetype": "text/x-python",
   "name": "python",
   "nbconvert_exporter": "python",
   "pygments_lexer": "ipython3",
   "version": "3.8.8"
  }
 },
 "nbformat": 4,
 "nbformat_minor": 5
}
