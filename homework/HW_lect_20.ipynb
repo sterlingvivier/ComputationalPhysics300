{
 "cells": [
  {
   "cell_type": "code",
   "execution_count": 1,
   "id": "d880c62b",
   "metadata": {},
   "outputs": [
    {
     "name": "stdout",
     "output_type": "stream",
     "text": [
      "cluster 1 atom:       fun: 0.0\n",
      " message: 'Optimization terminated successfully.'\n",
      "    nfev: 94\n",
      "     nit: 1\n",
      " success: True\n",
      "       x: array([0.92776096, 0.45260149, 0.11025143])\n"
     ]
    }
   ],
   "source": [
    "from scipy.optimize import differential_evolution\n",
    "import numpy as np\n",
    "\n",
    "def LJ(r):\n",
    "    r6 = r**6\n",
    "    r12 = r6*r6\n",
    "    return 4*(1/r12 - 1/r6)\n",
    "\n",
    "def total_energy(points): #points is a 3*N array of all the atoms involved\n",
    "    total = 0\n",
    "    num_atoms = int(len(points)/3)\n",
    "    \n",
    "    for i in range(num_atoms - 1):\n",
    "        for j in range(i+1, num_atoms):\n",
    "            pos1 = points[i*3 : (i+1)*3]\n",
    "            pos2 = points[j*3 : (j+1)*3]\n",
    "            \n",
    "            r = np.linalg.norm(pos1-pos2)\n",
    "            \n",
    "            total += LJ(r)\n",
    "    return total\n",
    "\n",
    "def init_pos(N, L=5):\n",
    "    return L*np.random.random_sample((N*3,))\n",
    "\n",
    "b = [(0,2), (0,2), (0,2) ] * 1\n",
    "DE=differential_evolution(total_energy, b)\n",
    "\n",
    "print (\"cluster 1 atom: \", DE)\n",
    "\n"
   ]
  },
  {
   "cell_type": "code",
   "execution_count": 2,
   "id": "2caedf57",
   "metadata": {},
   "outputs": [
    {
     "name": "stdout",
     "output_type": "stream",
     "text": [
      "cluster 2 atom:       fun: -0.9999999999999994\n",
      "     jac: array([-4.44089210e-08,  1.55431224e-07,  3.88578061e-07,  1.33226762e-07,\n",
      "       -5.55111510e-08, -1.11022303e-08])\n",
      " message: 'Optimization terminated successfully.'\n",
      "    nfev: 5871\n",
      "     nit: 64\n",
      " success: True\n",
      "       x: array([0.1383016 , 1.31639948, 1.12391424, 0.55514997, 0.83618311,\n",
      "       0.19895438])\n"
     ]
    }
   ],
   "source": [
    "b = [(0,2), (0,2), (0,2) ] * 2\n",
    "DE=differential_evolution(total_energy, b)\n",
    "\n",
    "print (\"cluster 2 atom: \", DE)"
   ]
  },
  {
   "cell_type": "code",
   "execution_count": 3,
   "id": "eace054a",
   "metadata": {},
   "outputs": [
    {
     "name": "stdout",
     "output_type": "stream",
     "text": [
      "cluster 3 atom:       fun: -2.9999999999965183\n",
      "     jac: array([ 5.32907055e-06,  3.64153152e-06, -3.06421557e-06, -1.64313009e-05,\n",
      "       -1.09690035e-05,  1.03916875e-05,  1.19904087e-05,  7.68274329e-06,\n",
      "       -7.01660948e-06])\n",
      " message: 'Optimization terminated successfully.'\n",
      "    nfev: 51785\n",
      "     nit: 382\n",
      " success: True\n",
      "       x: array([1.15318571, 0.28889844, 1.24309722, 1.26102537, 1.13336127,\n",
      "       0.51154143, 0.24006738, 0.80305188, 0.84087537])\n"
     ]
    }
   ],
   "source": [
    "b = [(0,2), (0,2), (0,2) ] * 3\n",
    "DE=differential_evolution(total_energy, b)\n",
    "\n",
    "print (\"cluster 3 atom: \", DE)"
   ]
  },
  {
   "cell_type": "code",
   "execution_count": null,
   "id": "e312ad64",
   "metadata": {},
   "outputs": [],
   "source": [
    "b = [(0,2), (0,2), (0,2) ] * 4\n",
    "DE=differential_evolution(total_energy, b)\n",
    "\n",
    "print (\"cluster 4 atom: \", DE)"
   ]
  }
 ],
 "metadata": {
  "kernelspec": {
   "display_name": "Python 3",
   "language": "python",
   "name": "python3"
  },
  "language_info": {
   "codemirror_mode": {
    "name": "ipython",
    "version": 3
   },
   "file_extension": ".py",
   "mimetype": "text/x-python",
   "name": "python",
   "nbconvert_exporter": "python",
   "pygments_lexer": "ipython3",
   "version": "3.8.8"
  }
 },
 "nbformat": 4,
 "nbformat_minor": 5
}
