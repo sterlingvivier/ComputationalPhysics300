{
 "cells": [
  {
   "cell_type": "code",
   "execution_count": null,
   "id": "e9b82d08",
   "metadata": {},
   "outputs": [],
   "source": [
    "import numpy as np\n",
    "import matplotlib.pyplot as plt\n",
    "\n",
    "def LJ(r):\n",
    "    r6 = r**6\n",
    "    r12 = r6*r6\n",
    "    return 4*(1/r12 - 1/r6)\n",
    "\n",
    "def total_energy(variables):\n",
    "    # variables (x, y, z) -> contribute to total energy\n",
    "\n",
    "    E = 0 #initial energy\n",
    "    N_atom = int(len(variables)/3)\n",
    "\n",
    "    for i in range(N_atom-1):\n",
    "        for j in range(i+1, N_atom):\n",
    "            pos1 = variables[i*3:(i+1)*3]\n",
    "            pos2 = variables[j*3:(j+1)*3]\n",
    "            dist = np.linalg.norm(pos1-pos2)\n",
    "            E += LJ(dist) #call LJ function\n",
    "    return E\n",
    "\n",
    "def init_pos(N, L=3):\n",
    "    return L*np.random.random_sample((N*3,))\n",
    "\n",
    "EARR=[]\n",
    "\n",
    "for i in range (1,1000):\n",
    "    init=init_pos(3,L=3)\n",
    "    e=total_energy(init)\n",
    "    EARR.append(e)\n",
    "\n",
    "print(min(EARR))\n",
    "\n",
    "r = np.linspace(1.0,3.0,100)\n",
    "plt.plot(r, LJ(r))\n",
    "plt.show()"
   ]
  }
 ],
 "metadata": {
  "kernelspec": {
   "display_name": "Python 3",
   "language": "python",
   "name": "python3"
  },
  "language_info": {
   "codemirror_mode": {
    "name": "ipython",
    "version": 3
   },
   "file_extension": ".py",
   "mimetype": "text/x-python",
   "name": "python",
   "nbconvert_exporter": "python",
   "pygments_lexer": "ipython3",
   "version": "3.8.8"
  }
 },
 "nbformat": 4,
 "nbformat_minor": 5
}
