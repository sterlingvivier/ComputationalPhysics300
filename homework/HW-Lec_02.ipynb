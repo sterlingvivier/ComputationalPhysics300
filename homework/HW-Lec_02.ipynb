{
 "cells": [
  {
   "cell_type": "code",
   "execution_count": 7,
   "id": "ccf2f5a7",
   "metadata": {},
   "outputs": [
    {
     "name": "stdout",
     "output_type": "stream",
     "text": [
      "type a value for N: 4\n",
      "when q= 0 ;  the energy is 1.0\n",
      "when q= 1 ;  the energy is 4.0\n",
      "when q= 2 ;  the energy is 10.0\n",
      "when q= 3 ;  the energy is 20.0\n",
      "when q= 4 ;  the energy is 35.0\n"
     ]
    }
   ],
   "source": [
    "#Sterling Vivier PHYS 300 HW1-lec2\n",
    "import numpy as np\n",
    "\n",
    "#defining a function to calculate the factorial\n",
    "#code from lec_02 notes\n",
    "def factor(N):\n",
    "    if N == 0 or N == 1:\n",
    "        return 1\n",
    "    else: \n",
    "        total = 1\n",
    "        for i in range(2,N+1):\n",
    "            total *= i\n",
    "        return total  \n",
    "\n",
    "#defining a function to calculate the energy\n",
    "#q is number of energy states \n",
    "#N is number of oscillators \n",
    "def energy(N, q):  \n",
    "    a=(q + N-1)                #numerator\n",
    "    n= factor(a)               #factorial of numerator\n",
    "    d= factor(q) * factor(N-1) #denominator\n",
    "    return n/d                 #return equation \n",
    "\n",
    "N=int(input(\"type a value for N: \")) #user input\n",
    "\n",
    "for q in range(N+1):           #output different energy levels\n",
    "    print('when q=', q, ';  the energy is',  energy(N,q))"
   ]
  },
  {
   "cell_type": "code",
   "execution_count": null,
   "id": "d6b67253",
   "metadata": {},
   "outputs": [],
   "source": [
    "# the formula for omega is the combination of the different ways to distribute energy. \n",
    "# nCr = n! / (n-r)!r!\n",
    "# in the case of the solid state system n = q + N-1 and r = q\n",
    "# thus, (q + N-1)! / (q + N-1 -q)!q! is equal to the formula defined \n",
    "# for energy above"
   ]
  }
 ],
 "metadata": {
  "kernelspec": {
   "display_name": "Python 3",
   "language": "python",
   "name": "python3"
  },
  "language_info": {
   "codemirror_mode": {
    "name": "ipython",
    "version": 3
   },
   "file_extension": ".py",
   "mimetype": "text/x-python",
   "name": "python",
   "nbconvert_exporter": "python",
   "pygments_lexer": "ipython3",
   "version": "3.8.8"
  }
 },
 "nbformat": 4,
 "nbformat_minor": 5
}
