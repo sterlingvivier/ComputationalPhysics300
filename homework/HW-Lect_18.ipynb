{
 "cells": [
  {
   "cell_type": "code",
   "execution_count": 12,
   "id": "248ffe52",
   "metadata": {},
   "outputs": [],
   "source": [
    "import numpy as np\n",
    "\n",
    "def LJ(r):\n",
    "    r6 = r**6\n",
    "    r12 = r6*r6\n",
    "    return 4*(1/r12 - 1/r6)\n",
    "\n",
    "def total_energy(positions):\n",
    "    \"\"\"\n",
    "    Calculate the total energy\n",
    "    input:\n",
    "    positions: 3*N array which represents the atomic positions\n",
    "    output\n",
    "    E: the total energy\n",
    "    \"\"\"\n",
    "    E = 0\n",
    "    N_atom = int(len(positions)/3)\n",
    "    \n",
    "    for i in range(N_atom-1):\n",
    "        for j in range(i+1, N_atom):\n",
    "            pos1 = positions[i*3:(i+1)*3]\n",
    "            pos2 = positions[j*3:(j+1)*3]\n",
    "            dist = np.linalg.norm(pos1-pos2)\n",
    "            E += LJ(dist)\n",
    "    return E\n",
    "\n",
    "def init_pos(N, L=5):\n",
    "    return L*np.random.random_sample((N*3,))\n"
   ]
  },
  {
   "cell_type": "code",
   "execution_count": 15,
   "id": "5dea85c6",
   "metadata": {},
   "outputs": [
    {
     "name": "stdout",
     "output_type": "stream",
     "text": [
      "step:  0   values: -48.51480176454069\n",
      "The global minimum:   -48.51480176454069\n",
      "Elapsed time to run for 2  attempts and 15  atoms was 29.829413175582886 seconds\n"
     ]
    },
    {
     "data": {
      "image/png": "[encoded data removed]",
      "text/plain": [
       "<Figure size 432x288 with 1 Axes>"
      ]
     },
     "metadata": {
      "needs_background": "light"
     },
     "output_type": "display_data"
    }
   ],
   "source": [
    "from scipy.optimize import minimize\n",
    "import time\n",
    "import matplotlib.pyplot as plt\n",
    "%matplotlib inline\n",
    "\n",
    "f_values = []\n",
    "x_values = []\n",
    "N_attempts = 2\n",
    "N_atom = 15\n",
    "\n",
    "start = time.time()\n",
    "\n",
    "for i in range(N_attempts):\n",
    "    pos = init_pos(N_atom)\n",
    "    res = minimize(total_energy, pos, method='CG', tol=1e-4)\n",
    "    f_values.append(res.fun)\n",
    "    x_values.append(res.x)\n",
    "    if i%10==0:\n",
    "        print('step: ', i, '  values:', res.fun)\n",
    "\n",
    "print('The global minimum:  ', min(f_values))\n",
    "\n",
    "plt.hist(f_values,10)\n",
    "end = time.time()\n",
    "print(\"Elapsed time to run for\", N_attempts, \" attempts and\", N_atom, \" atoms was\", end - start, \"seconds\")"
   ]
  },
  {
   "cell_type": "code",
   "execution_count": 16,
   "id": "65a16720",
   "metadata": {},
   "outputs": [
    {
     "name": "stdout",
     "output_type": "stream",
     "text": [
      "step:  0   values: -47.561203074798755\n",
      "The global minimum:   -55.60327377487492\n",
      "Elapsed time to run for 2  attempts and 17  atoms was 62.421053886413574 seconds\n"
     ]
    },
    {
     "data": {
      "image/png": "[encoded data removed]",
      "text/plain": [
       "<Figure size 432x288 with 1 Axes>"
      ]
     },
     "metadata": {
      "needs_background": "light"
     },
     "output_type": "display_data"
    }
   ],
   "source": [
    "f_values = []\n",
    "x_values = []\n",
    "N_attempts = 2\n",
    "N_atom = 17\n",
    "\n",
    "start = time.time()\n",
    "\n",
    "for i in range(N_attempts):\n",
    "    pos = init_pos(N_atom)\n",
    "    res = minimize(total_energy, pos, method='CG', tol=1e-4)\n",
    "    f_values.append(res.fun)\n",
    "    x_values.append(res.x)\n",
    "    if i%10==0:\n",
    "        print('step: ', i, '  values:', res.fun)\n",
    "\n",
    "print('The global minimum:  ', min(f_values))\n",
    "\n",
    "plt.hist(f_values,10)\n",
    "end = time.time()\n",
    "print(\"Elapsed time to run for\", N_attempts, \" attempts and\", N_atom, \" atoms was\", end - start, \"seconds\")"
   ]
  },
  {
   "cell_type": "code",
   "execution_count": null,
   "id": "0d82b6fa",
   "metadata": {},
   "outputs": [],
   "source": [
    "f_values = []\n",
    "x_values = []\n",
    "N_attempts = 2\n",
    "N_atom = 19\n",
    "\n",
    "start = time.time()\n",
    "\n",
    "for i in range(N_attempts):\n",
    "    pos = init_pos(N_atom)\n",
    "    res = minimize(total_energy, pos, method='CG', tol=1e-4)\n",
    "    f_values.append(res.fun)\n",
    "    x_values.append(res.x)\n",
    "    if i%10==0:\n",
    "        print('step: ', i, '  values:', res.fun)\n",
    "\n",
    "print('The global minimum:  ', min(f_values))\n",
    "\n",
    "plt.hist(f_values,10)\n",
    "end = time.time()\n",
    "print(\"Elapsed time to run for\", N_attempts, \" attempts and\", N_atom, \" atoms was\", end - start, \"seconds\")"
   ]
  }
 ],
 "metadata": {
  "kernelspec": {
   "display_name": "Python 3",
   "language": "python",
   "name": "python3"
  },
  "language_info": {
   "codemirror_mode": {
    "name": "ipython",
    "version": 3
   },
   "file_extension": ".py",
   "mimetype": "text/x-python",
   "name": "python",
   "nbconvert_exporter": "python",
   "pygments_lexer": "ipython3",
   "version": "3.8.8"
  }
 },
 "nbformat": 4,
 "nbformat_minor": 5
}
